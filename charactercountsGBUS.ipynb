{
 "cells": [
  {
   "cell_type": "code",
   "execution_count": 18,
   "metadata": {},
   "outputs": [],
   "source": [
    "import pandas as pd\n",
    "import numpy as np\n",
    "from matplotlib import pyplot as plt\n",
    "from collections import Counter\n",
    "\n",
    "gbdf = pd.read_csv(\"./GB_youtube_trending_data.csv\")\n",
    "usdf = pd.read_csv(\"./US_youtube_trending_data.csv\")"
   ]
  },
  {
   "cell_type": "code",
   "execution_count": 19,
   "metadata": {},
   "outputs": [
    {
     "data": {
      "text/plain": [
       "0         34\n",
       "1         60\n",
       "2         53\n",
       "3         56\n",
       "4         55\n",
       "          ..\n",
       "144785    42\n",
       "144786    37\n",
       "144787    39\n",
       "144788    36\n",
       "144789    86\n",
       "Name: title, Length: 144790, dtype: int64"
      ]
     },
     "execution_count": 19,
     "metadata": {},
     "output_type": "execute_result"
    }
   ],
   "source": [
    "usdf[\"title\"].apply(lambda x: len(str(x)))\n",
    "\n",
    "# counts characters in each cell for title in us database"
   ]
  },
  {
   "cell_type": "code",
   "execution_count": 20,
   "metadata": {},
   "outputs": [
    {
     "data": {
      "text/plain": [
       "[(41, 3460),\n",
       " (42, 3310),\n",
       " (46, 3290),\n",
       " (44, 3287),\n",
       " (39, 3259),\n",
       " (49, 3235),\n",
       " (48, 3169),\n",
       " (47, 3060),\n",
       " (43, 3049),\n",
       " (40, 3015),\n",
       " (45, 2992),\n",
       " (37, 2929),\n",
       " (36, 2923),\n",
       " (35, 2851),\n",
       " (50, 2796),\n",
       " (38, 2724),\n",
       " (51, 2671),\n",
       " (34, 2615),\n",
       " (52, 2607),\n",
       " (33, 2494),\n",
       " (32, 2443),\n",
       " (53, 2381),\n",
       " (54, 2365),\n",
       " (31, 2291),\n",
       " (55, 2287),\n",
       " (56, 2266),\n",
       " (30, 2262),\n",
       " (58, 2259),\n",
       " (57, 2173),\n",
       " (59, 2172),\n",
       " (61, 1958),\n",
       " (60, 1880),\n",
       " (29, 1875),\n",
       " (63, 1862),\n",
       " (28, 1820),\n",
       " (62, 1772),\n",
       " (27, 1697),\n",
       " (65, 1637),\n",
       " (26, 1631),\n",
       " (24, 1580),\n",
       " (64, 1558),\n",
       " (25, 1475),\n",
       " (66, 1465),\n",
       " (68, 1369),\n",
       " (69, 1315),\n",
       " (67, 1278),\n",
       " (72, 1198),\n",
       " (70, 1192),\n",
       " (21, 1170),\n",
       " (22, 1148),\n",
       " (100, 1141),\n",
       " (23, 1124),\n",
       " (71, 1107),\n",
       " (74, 1096),\n",
       " (73, 1092),\n",
       " (76, 1048),\n",
       " (98, 980),\n",
       " (79, 962),\n",
       " (20, 947),\n",
       " (77, 932),\n",
       " (75, 870),\n",
       " (18, 865),\n",
       " (78, 856),\n",
       " (96, 831),\n",
       " (99, 790),\n",
       " (97, 767),\n",
       " (19, 756),\n",
       " (16, 741),\n",
       " (80, 739),\n",
       " (83, 739),\n",
       " (91, 728),\n",
       " (86, 721),\n",
       " (90, 720),\n",
       " (81, 695),\n",
       " (87, 691),\n",
       " (94, 691),\n",
       " (82, 688),\n",
       " (17, 671),\n",
       " (15, 670),\n",
       " (95, 655),\n",
       " (85, 650),\n",
       " (93, 639),\n",
       " (92, 637),\n",
       " (88, 635),\n",
       " (89, 598),\n",
       " (84, 594),\n",
       " (14, 408),\n",
       " (13, 320),\n",
       " (11, 304),\n",
       " (12, 294),\n",
       " (10, 242),\n",
       " (9, 160),\n",
       " (7, 119),\n",
       " (6, 98),\n",
       " (4, 81),\n",
       " (8, 80),\n",
       " (5, 61),\n",
       " (3, 25),\n",
       " (1, 12),\n",
       " (2, 5)]"
      ]
     },
     "execution_count": 20,
     "metadata": {},
     "output_type": "execute_result"
    }
   ],
   "source": [
    "Counter(usdf[\"title\"].apply(lambda x: len(str(x)))).most_common(2000)\n",
    "\n",
    "# counts number frequency of characters in us database"
   ]
  },
  {
   "cell_type": "code",
   "execution_count": 21,
   "metadata": {},
   "outputs": [
    {
     "data": {
      "text/plain": [
       "0         53\n",
       "1         44\n",
       "2         60\n",
       "3         30\n",
       "4         34\n",
       "          ..\n",
       "144788    88\n",
       "144789    69\n",
       "144790    44\n",
       "144791    38\n",
       "144792    10\n",
       "Name: title, Length: 144793, dtype: int64"
      ]
     },
     "execution_count": 21,
     "metadata": {},
     "output_type": "execute_result"
    }
   ],
   "source": [
    "gbdf[\"title\"].apply(lambda x: len(str(x)))\n",
    "\n",
    "# counts characters in each cell for title in us database"
   ]
  },
  {
   "cell_type": "code",
   "execution_count": 22,
   "metadata": {},
   "outputs": [
    {
     "data": {
      "text/plain": [
       "[(49, 3223),\n",
       " (46, 3149),\n",
       " (48, 3119),\n",
       " (39, 3107),\n",
       " (42, 3101),\n",
       " (44, 3062),\n",
       " (41, 3028),\n",
       " (47, 3027),\n",
       " (45, 3013),\n",
       " (37, 2837),\n",
       " (43, 2827),\n",
       " (40, 2759),\n",
       " (36, 2755),\n",
       " (34, 2741),\n",
       " (38, 2719),\n",
       " (52, 2659),\n",
       " (51, 2656),\n",
       " (35, 2648),\n",
       " (50, 2624),\n",
       " (33, 2535),\n",
       " (54, 2443),\n",
       " (32, 2405),\n",
       " (31, 2325),\n",
       " (55, 2208),\n",
       " (53, 2205),\n",
       " (56, 2168),\n",
       " (57, 2142),\n",
       " (58, 2122),\n",
       " (30, 2099),\n",
       " (29, 2035),\n",
       " (60, 1945),\n",
       " (59, 1900),\n",
       " (61, 1872),\n",
       " (28, 1809),\n",
       " (62, 1781),\n",
       " (64, 1701),\n",
       " (27, 1698),\n",
       " (65, 1627),\n",
       " (63, 1597),\n",
       " (100, 1587),\n",
       " (26, 1565),\n",
       " (24, 1558),\n",
       " (66, 1524),\n",
       " (25, 1438),\n",
       " (69, 1347),\n",
       " (68, 1315),\n",
       " (67, 1312),\n",
       " (71, 1264),\n",
       " (74, 1246),\n",
       " (98, 1245),\n",
       " (72, 1195),\n",
       " (70, 1173),\n",
       " (99, 1129),\n",
       " (22, 1108),\n",
       " (21, 1092),\n",
       " (78, 1081),\n",
       " (97, 1065),\n",
       " (23, 1027),\n",
       " (75, 1027),\n",
       " (73, 1013),\n",
       " (76, 1003),\n",
       " (77, 931),\n",
       " (20, 920),\n",
       " (79, 919),\n",
       " (91, 904),\n",
       " (96, 897),\n",
       " (95, 895),\n",
       " (81, 876),\n",
       " (90, 856),\n",
       " (93, 816),\n",
       " (86, 814),\n",
       " (94, 807),\n",
       " (88, 800),\n",
       " (89, 798),\n",
       " (19, 783),\n",
       " (83, 774),\n",
       " (82, 770),\n",
       " (18, 769),\n",
       " (87, 764),\n",
       " (92, 746),\n",
       " (85, 738),\n",
       " (80, 725),\n",
       " (84, 687),\n",
       " (16, 656),\n",
       " (17, 615),\n",
       " (15, 508),\n",
       " (14, 427),\n",
       " (13, 323),\n",
       " (12, 303),\n",
       " (11, 265),\n",
       " (10, 259),\n",
       " (9, 136),\n",
       " (7, 80),\n",
       " (8, 67),\n",
       " (4, 49),\n",
       " (6, 47),\n",
       " (5, 43),\n",
       " (3, 23),\n",
       " (1, 12),\n",
       " (2, 6)]"
      ]
     },
     "execution_count": 22,
     "metadata": {},
     "output_type": "execute_result"
    }
   ],
   "source": [
    "Counter(gbdf[\"title\"].apply(lambda x: len(str(x)))).most_common(2000)\n",
    "\n",
    "# counts number frequency of characters in us database"
   ]
  },
  {
   "cell_type": "code",
   "execution_count": 23,
   "metadata": {},
   "outputs": [
    {
     "data": {
      "text/plain": [
       "Text(0, 0.5, 'Frequency of Use')"
      ]
     },
     "execution_count": 23,
     "metadata": {},
     "output_type": "execute_result"
    },
    {
     "data": {
      "image/png": "[encoded data removed]",
      "text/plain": [
       "<Figure size 432x288 with 1 Axes>"
      ]
     },
     "metadata": {
      "needs_background": "light"
     },
     "output_type": "display_data"
    }
   ],
   "source": [
    "plotdata = pd.DataFrame ({\n",
    "    \n",
    "    \"GB\":[3223, 3119, 3149, 3062, 3101, 3028, 3107],\n",
    "    \"US\":[3235, 3169, 3290, 3287, 3310, 3460, 3259]\n",
    "    }, index = [\"49\", \"48\", \"46\", \"44\", \"42\", \"41\", \"39\"]\n",
    ")\n",
    "plotdata.head()\n",
    "\n",
    "plotdata.reset_index().plot(\n",
    "    x = \"index\", y = [\"US\", \"GB\"], kind = \"bar\"\n",
    ")\n",
    "plt.title(\"Comparison of Most Popular Title Character Count in GB and US\")\n",
    "plt.xlabel(\"Keyword\")\n",
    "plt.ylabel(\"Frequency of Use\")\n"
   ]
  }
 ],
 "metadata": {
  "kernelspec": {
   "display_name": "Python 3.10.6 64-bit",
   "language": "python",
   "name": "python3"
  },
  "language_info": {
   "codemirror_mode": {
    "name": "ipython",
    "version": 3
   },
   "file_extension": ".py",
   "mimetype": "text/x-python",
   "name": "python",
   "nbconvert_exporter": "python",
   "pygments_lexer": "ipython3",
   "version": "3.10.6 (tags/v3.10.6:9c7b4bd, Aug  1 2022, 21:53:49) [MSC v.1932 64 bit (AMD64)]"
  },
  "orig_nbformat": 4,
  "vscode": {
   "interpreter": {
    "hash": "c29e1876fae2abcc33b956ee6ed8435f83db44743e2b4b9ebab0bec6af53fdc4"
   }
  }
 },
 "nbformat": 4,
 "nbformat_minor": 2
}

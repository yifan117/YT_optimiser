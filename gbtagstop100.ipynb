[
    GP COMP US
    none: 24142 / 1
    minecraft: 20559 / 2
    new: 18660 / 3
    game: 8311
    music: 5552

    GB TOP 5
    minecraft:20559
    united: 18118 / 4
    new: 18660
    highlight: 6481
    video: 3801
    none: 24142
    football: 8459 / 5
    
    
    FROM US
    none: 23329
    minecraft: 22706
    new: 13971
    game: 12931
    music:7198

    video: 7072
    highlight:3140
    fortnite: 5879
            
            ('[None]', 24142),
            ('United', 10048),
            ('new', 7763),
            ('season', 5966),
            ('league', 5529),
 ('with', 5425),
 ('you', 5089),
 ('my', 5074),
            ('minecraft', 4822),
 ('for', 4375),
 ('game', 4332),
 ('us', 4106),
 ('The', 4012),
 ('2', 3921),
 ('v', 3898),
 ('music', 3649),
 ('highlights', 3604),
('Utd', 3503),
 ('is', 3417),
        ('United|Man', 3406),
 ('me', 3370),
 ('but', 3354),
 ('live', 3326),
 ('days', 3251),
 ('Sports', 3248),
 ('100', 3218),
 ('it', 3080),
 ('22', 3006),
 ('5', 2976),
 ('sports', 2934),
 ('life', 2895),
        ('minecraft|minecraft', 2879),
 ('3', 2822),
 ('best', 2735),
 ('Manchester', 2721),
 ('12', 2649),
 ('i', 2642),
 ('man', 2639),
 ('official', 2614),
 ('4', 2506),
 ('sky', 2449),
 ('&', 2440),
 ('2021', 2344),
 ('at', 2336),
 ('I', 2309),
 ('world', 2304),
 ('home', 2219),
 ('full', 2193),
 ('de', 2176),
 ('paul', 2175),
 ('pro', 2150),
 ('series', 2125),
        ('Minecraft', 2086),
 ('chapter', 2052),
 ('real', 2043),
 ('night', 1997),
 ('no', 1997),
 ('x', 1993),
 ('battle', 1991),
 ('Transfer', 1985),
 ('funny', 1974),
 ('video', 1946),
 ('Legends', 1926),
 ('-', 1841),
 ('1', 1835),
 ('perfect', 1830),
 ('way', 1797),
 ('out', 1777),
 ('city', 1767),
 ('legends', 1761),
 ('2020', 1743),
 ('island', 1709),
 ('by', 1700),
 ('tok', 1660),
 ('your', 1652),
 ('tour', 1614),
 ('impact', 1594),
 ('love', 1567),
 ('cup', 1548),
('Utd|Manchester', 1547),
 ('Stand|United', 1542),
 ('first', 1539),
 ('football', 1538),
 ('be', 1534),
 ('fan', 1533),
 ('13', 1530),
 ('got', 1523),
 ('News|MUFC|Man', 1512),
 ('news', 1504),
 ('Stand|Manchester', 1501),
 ('hardcore', 1496),
 ('trailer', 1495)]